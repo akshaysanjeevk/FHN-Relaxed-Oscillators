{
 "cells": [
  {
   "cell_type": "code",
   "execution_count": 1,
   "metadata": {},
   "outputs": [],
   "source": [
    "import numpy as np\n",
    "import matplotlib.pyplot as plt\n",
    "import scipy as spy\n",
    "\n",
    "plt.rcParams['text.usetex'] = True"
   ]
  },
  {
   "cell_type": "code",
   "execution_count": 2,
   "metadata": {},
   "outputs": [],
   "source": [
    "def FHNPeriodic(t, y, parms):\n",
    "    N = parms['N']\n",
    "    u = y[:N]\n",
    "    v = y[N:]\n",
    "    dudt = np.zeros(N)\n",
    "    dvdt = np.zeros(N)\n",
    "    for i in range(parms['N']):\n",
    "        vleft = v[i-1] if i>0 else v[-1]\n",
    "        vright = v[i+1] if i<(N-1) else v[0]\n",
    "\n",
    "        dudt[i] = u[i]*(1 - u[i])*(u[i] - parms['a']) - v[i]\n",
    "        dvdt[i] = parms['e']*(parms['k']*u[i] - v[i] - parms['b']) + parms['D']*(vleft + vright - 2*v[i])\n",
    "    return np.concatenate([dudt, dvdt])\n",
    "\n",
    "def FHNString(t, y, parms):#on a string\n",
    "    N = parms['N']\n",
    "    u = y[:N]\n",
    "    v = y[N:]\n",
    "    dudt = np.zeros(N)\n",
    "    dvdt = np.zeros(N)\n",
    "    for i in range(N):\n",
    "        dudt[i] = u[i] * (1 - u[i]) * (u[i] - parms['a']) - v[i]\n",
    "        if i > 0 and i < N - 1:\n",
    "            dvdt[i] = parms['e'] * (parms['k'] * u[i] - v[i] - parms['b']) + parms['D'] * (v[i-1] + v[i+1] - 2 * v[i])\n",
    "        elif i == 0:\n",
    "            dvdt[i] = parms['D'] * (v[1] - v[i])  \n",
    "        elif i == N - 1:\n",
    "            dvdt[i] = parms['D'] * (v[i-1] - v[i])  \n",
    "    return np.concatenate([dudt, dvdt])"
   ]
  },
  {
   "cell_type": "code",
   "execution_count": 25,
   "metadata": {},
   "outputs": [],
   "source": [
    "aps_params = {\n",
    "    'N' : 10,\n",
    "    'a' : .139, \n",
    "    'e' : .001,\n",
    "    'k' : .6,\n",
    "    'b' : 7,\n",
    "    'D' : .4e3\n",
    "}\n",
    "\n",
    "spod_params = {\n",
    "    'N' : 10,\n",
    "    'a' : .139, \n",
    "    'e' : .001,\n",
    "    'k' : .6,\n",
    "    'b' : 16,\n",
    "    'D' : 2e3\n",
    "}\n",
    "\n",
    "so_params = {\n",
    "    'N' : 10,\n",
    "    'a' : .139, \n",
    "    'e' : .001,\n",
    "    'k' : .6,\n",
    "    'b' : 6,\n",
    "    'D' : 1e3\n",
    "}"
   ]
  },
  {
   "cell_type": "code",
   "execution_count": 26,
   "metadata": {},
   "outputs": [],
   "source": [
    "# y0 = np.ones(2*params['N'])\n",
    "params = so_params\n",
    "tspan = (0, 4e-4)\n",
    "t_eval =  np.linspace(0,4e-4, 100)\n",
    "y0 = np.random.uniform(0.1, 0.9, 2*params['N'])  # Avoiding extremes\n",
    "\n",
    "sol = spy.integrate.solve_ivp(lambda t, y: FHNString(t, y, params), \n",
    "                tspan, y0, t_eval=t_eval,\n",
    "                method='RK45')\n"
   ]
  },
  {
   "cell_type": "code",
   "execution_count": 27,
   "metadata": {},
   "outputs": [
    {
     "data": {
      "image/png": "[encoded data removed]",
      "text/plain": [
       "<Figure size 1000x300 with 2 Axes>"
      ]
     },
     "metadata": {},
     "output_type": "display_data"
    }
   ],
   "source": [
    "plt.figure(figsize=(10, 3))\n",
    "plt.imshow(sol.y[:params['N'], :], aspect='auto', cmap='viridis')\n",
    "cbar = plt.colorbar()\n",
    "cbar.set_label('$u(t)$')\n",
    "plt.xlabel('Time')\n",
    "plt.ylabel('Cell')\n",
    "plt.yticks(ticks=np.arange(params['N']), labels=np.arange(1, params['N']+1))\n",
    "plt.show()"
   ]
  },
  {
   "cell_type": "markdown",
   "metadata": {},
   "source": [
    "## Observations\n",
    "- for such long time units like `t_span = (0, 1e2)` the system diverges away from the shown examples(SPOD)"
   ]
  },
  {
   "cell_type": "code",
   "execution_count": null,
   "metadata": {},
   "outputs": [],
   "source": [
    "\n"
   ]
  }
 ],
 "metadata": {
  "kernelspec": {
   "display_name": "base",
   "language": "python",
   "name": "python3"
  },
  "language_info": {
   "codemirror_mode": {
    "name": "ipython",
    "version": 3
   },
   "file_extension": ".py",
   "mimetype": "text/x-python",
   "name": "python",
   "nbconvert_exporter": "python",
   "pygments_lexer": "ipython3",
   "version": "3.11.5"
  }
 },
 "nbformat": 4,
 "nbformat_minor": 2
}
