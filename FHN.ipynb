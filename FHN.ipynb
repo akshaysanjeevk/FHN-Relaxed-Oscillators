{
 "cells": [
  {
   "cell_type": "code",
   "execution_count": null,
   "metadata": {},
   "outputs": [],
   "source": [
    "import numpy as np\n",
    "import matplotlib.pyplot as plt\n",
    "import scipy as spy\n",
    "\n",
    "plt.rcParams['text.usetex'] = True"
   ]
  },
  {
   "cell_type": "code",
   "execution_count": null,
   "metadata": {},
   "outputs": [],
   "source": [
    "def FHNPeriodic(t, y, parms):\n",
    "    N = parms['N']\n",
    "    u = y[:N]\n",
    "    v = y[N:]\n",
    "    dudt = np.zeros(N)\n",
    "    dvdt = np.zeros(N)\n",
    "    for i in range(parms['N']):\n",
    "        vleft = v[i-1] if i>0 else v[-1]\n",
    "        vright = v[i+1] if i<(N-1) else v[0]\n",
    "\n",
    "        dudt[i] = u[i]*(1 - u[i])*(u[i] - parms['a']) - v[i]\n",
    "        dvdt[i] = parms['e']*(parms['k']*u[i] - v[i] - parms['b']) + parms['D']*(vleft + vright - 2*v[i])\n",
    "    return np.concatenate([dudt, dvdt])"
   ]
  },
  {
   "cell_type": "code",
   "execution_count": null,
   "metadata": {},
   "outputs": [],
   "source": [
    "params = {\n",
    "    'N' : 10,\n",
    "    'a' : .139, \n",
    "    'e' : .001,\n",
    "    'k' : .6,\n",
    "    'b' : 7,\n",
    "    'D' : .4e3\n",
    "}\n",
    "\n",
    "y0 = np.random.uniform(0.1, 0.9, 2*params['N'])  # Avoiding extremes\n",
    "# y0 = np.zeros(2*params['N'])\n",
    "tspan = (0, 10)\n",
    "sol = spy.integrate.solve_ivp(lambda t, y: FHN(t, y, params), \n",
    "                tspan, y0, t_eval=np.linspace(0, 10, 100),\n",
    "                method='RK45')\n",
    "\n"
   ]
  },
  {
   "cell_type": "code",
   "execution_count": null,
   "metadata": {},
   "outputs": [],
   "source": [
    "plt.figure(figsize=(10, 5))\n",
    "plt.imshow(sol.y[:params['N'], :], aspect='auto', cmap='viridis')\n",
    "\n",
    "cbar = plt.colorbar()\n",
    "cbar.set_label('$u(t)$')\n",
    "plt.yticks(ticks=np.arange(params['N']), labels=np.arange(1, params['N']+1))\n",
    "plt.show()"
   ]
  },
  {
   "cell_type": "code",
   "execution_count": null,
   "metadata": {},
   "outputs": [],
   "source": [
    "\n",
    "\n"
   ]
  }
 ],
 "metadata": {
  "language_info": {
   "name": "python"
  }
 },
 "nbformat": 4,
 "nbformat_minor": 2
}
